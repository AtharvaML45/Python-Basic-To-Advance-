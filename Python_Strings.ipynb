{
  "nbformat": 4,
  "nbformat_minor": 0,
  "metadata": {
    "colab": {
      "provenance": []
    },
    "kernelspec": {
      "name": "python3",
      "display_name": "Python 3"
    },
    "language_info": {
      "name": "python"
    }
  },
  "cells": [
    {
      "cell_type": "markdown",
      "source": [
        "## Python Strings"
      ],
      "metadata": {
        "id": "xoSy-wIg-q0d"
      }
    },
    {
      "cell_type": "code",
      "source": [
        "# Use quotation marks for defining string\n",
        "\n",
        "\"Brook\" # Represntation Using Double quotes\n",
        "'BROCK' # Representation using single quotes"
      ],
      "metadata": {
        "colab": {
          "base_uri": "https://localhost:8080/",
          "height": 36
        },
        "id": "iuVMW9nW-sSY",
        "outputId": "f904adde-9efd-4caf-fde3-4147e5ac2962"
      },
      "execution_count": 1,
      "outputs": [
        {
          "output_type": "execute_result",
          "data": {
            "text/plain": [
              "' Brook'"
            ],
            "application/vnd.google.colaboratory.intrinsic+json": {
              "type": "string"
            }
          },
          "metadata": {},
          "execution_count": 1
        }
      ]
    },
    {
      "cell_type": "code",
      "source": [
        "# Assign string to variable\n",
        "\n",
        "ch = \"LuffyTaro\""
      ],
      "metadata": {
        "id": "cVb9EF5C_HJW"
      },
      "execution_count": 2,
      "outputs": []
    },
    {
      "cell_type": "markdown",
      "source": [
        "Indexing"
      ],
      "metadata": {
        "id": "xU_KzsOh_4QD"
      }
    },
    {
      "cell_type": "code",
      "source": [
        "# B R O O K\n",
        "# 0 1 2 3 4\n",
        "\n",
        "character = \"Brook\"\n",
        "print(character)\n",
        "\n",
        "# Printing first element in the string\n",
        "print(character[0])\n",
        "\n",
        "# Printing element in 4th index value of the string\n",
        "print(character[4])\n",
        "\n",
        "# Negative indexing\n",
        "print(character[-1])\n",
        "\n",
        "\n",
        "\n",
        "\n"
      ],
      "metadata": {
        "colab": {
          "base_uri": "https://localhost:8080/"
        },
        "id": "slkxsHNT_6sy",
        "outputId": "819b72a5-d300-4499-c7c4-07e598874b2d"
      },
      "execution_count": 11,
      "outputs": [
        {
          "output_type": "stream",
          "name": "stdout",
          "text": [
            "Brook\n",
            "B\n",
            "k\n",
            "k\n"
          ]
        }
      ]
    },
    {
      "cell_type": "markdown",
      "source": [
        "Slicing"
      ],
      "metadata": {
        "id": "K54GFY8qBgqX"
      }
    },
    {
      "cell_type": "code",
      "source": [
        "new = \"Zoro Sanji \"\n",
        "\n",
        "print(new[0:2]) # slicing index from 0 to 2 in which 2nd index is excluded\n",
        "print(new[4:9]) # slicing even incldes the white spaces or blank spaces between words\n",
        "print(new[5:])  # slicing from 5th index to end of string"
      ],
      "metadata": {
        "colab": {
          "base_uri": "https://localhost:8080/"
        },
        "id": "UDEMcBnqANam",
        "outputId": "5d540d59-bcb7-4fee-b0b8-ada60d4a0713"
      },
      "execution_count": 16,
      "outputs": [
        {
          "output_type": "stream",
          "name": "stdout",
          "text": [
            "Zo\n",
            " Sanj\n",
            "Sanji \n"
          ]
        }
      ]
    },
    {
      "cell_type": "code",
      "source": [
        "# stride\n",
        "# We can also input a stride value as follows, with the '2' indicating that we are selecting every second variable\n",
        "new[::2]\n",
        "# We can also incorporate slicing  with the stride. In this case, we select the first five elements and then use the stride\n",
        "\n",
        "# Get every second element in the range from index 0 to index 4\n",
        "new[0:8:2]"
      ],
      "metadata": {
        "colab": {
          "base_uri": "https://localhost:8080/",
          "height": 36
        },
        "id": "ijz63nKnB0QN",
        "outputId": "c4903777-2dca-4088-b842-97dc65bae417"
      },
      "execution_count": 23,
      "outputs": [
        {
          "output_type": "execute_result",
          "data": {
            "text/plain": [
              "'Zr a'"
            ],
            "application/vnd.google.colaboratory.intrinsic+json": {
              "type": "string"
            }
          },
          "metadata": {},
          "execution_count": 23
        }
      ]
    },
    {
      "cell_type": "code",
      "source": [
        "# Concatenate two strings\n",
        "\n",
        "statement = new + \"is the best\"\n",
        "statement"
      ],
      "metadata": {
        "colab": {
          "base_uri": "https://localhost:8080/",
          "height": 36
        },
        "id": "Y69J8Bs7CtF0",
        "outputId": "a7092e8d-684e-412e-dd34-1b14d1ebee60"
      },
      "execution_count": 24,
      "outputs": [
        {
          "output_type": "execute_result",
          "data": {
            "text/plain": [
              "'Zoro Sanji is the best'"
            ],
            "application/vnd.google.colaboratory.intrinsic+json": {
              "type": "string"
            }
          },
          "metadata": {},
          "execution_count": 24
        }
      ]
    },
    {
      "cell_type": "code",
      "source": [
        "# Print the string for 3 times\n",
        "\n",
        "3 * \"Nami\""
      ],
      "metadata": {
        "colab": {
          "base_uri": "https://localhost:8080/",
          "height": 36
        },
        "id": "ofj64oHFDWMA",
        "outputId": "ab9bc2a2-3a00-416e-d1af-98472d12c0f6"
      },
      "execution_count": 25,
      "outputs": [
        {
          "output_type": "execute_result",
          "data": {
            "text/plain": [
              "'NamiNamiNami'"
            ],
            "application/vnd.google.colaboratory.intrinsic+json": {
              "type": "string"
            }
          },
          "metadata": {},
          "execution_count": 25
        }
      ]
    },
    {
      "cell_type": "code",
      "source": [
        "# Concatenate strings\n",
        "\n",
        "name = \" Robin\"\n",
        "name = name + \" is the best\"\n",
        "name"
      ],
      "metadata": {
        "colab": {
          "base_uri": "https://localhost:8080/",
          "height": 36
        },
        "id": "veqfIUNHDY1T",
        "outputId": "2e0ccbcd-ea0f-47f5-c60a-9f87c8751177"
      },
      "execution_count": 31,
      "outputs": [
        {
          "output_type": "execute_result",
          "data": {
            "text/plain": [
              "' Robin is the best'"
            ],
            "application/vnd.google.colaboratory.intrinsic+json": {
              "type": "string"
            }
          },
          "metadata": {},
          "execution_count": 31
        }
      ]
    },
    {
      "cell_type": "code",
      "source": [
        "# New line escape sequence\n",
        "\n",
        "print(\" White beard \\n is the best\" )"
      ],
      "metadata": {
        "colab": {
          "base_uri": "https://localhost:8080/"
        },
        "id": "jvbgiqsjDbQm",
        "outputId": "73216151-5831-419a-f83c-c92c1dd34294"
      },
      "execution_count": 27,
      "outputs": [
        {
          "output_type": "stream",
          "name": "stdout",
          "text": [
            " White beard \n",
            " is the best\n"
          ]
        }
      ]
    },
    {
      "cell_type": "code",
      "source": [
        "# Tab escape sequence\n",
        "\n",
        "print(\" White Beard \\t is the best\" )"
      ],
      "metadata": {
        "colab": {
          "base_uri": "https://localhost:8080/"
        },
        "id": "aMtA_Ff5Dc7p",
        "outputId": "6bb73d5e-6fe0-46e4-c9aa-31c01bfc1cb8"
      },
      "execution_count": 28,
      "outputs": [
        {
          "output_type": "stream",
          "name": "stdout",
          "text": [
            " White Beard \t is the best\n"
          ]
        }
      ]
    },
    {
      "cell_type": "code",
      "source": [
        "# Include back slash in string\n",
        "\n",
        "print(\" White Beard \\\\ is the best\" )"
      ],
      "metadata": {
        "colab": {
          "base_uri": "https://localhost:8080/"
        },
        "id": "dyXUuh_7DfB9",
        "outputId": "e85bf36c-4339-47d1-9768-50ad49bd26eb"
      },
      "execution_count": 29,
      "outputs": [
        {
          "output_type": "stream",
          "name": "stdout",
          "text": [
            " White Beard \\ is the best\n"
          ]
        }
      ]
    },
    {
      "cell_type": "code",
      "source": [
        "# r will tell python that string will be display as raw string\n",
        "\n",
        "print(r\" White Beard \\ is the best\" )"
      ],
      "metadata": {
        "colab": {
          "base_uri": "https://localhost:8080/"
        },
        "id": "Kn06RLj4DiI9",
        "outputId": "d28f521d-dcf1-42ab-823d-fd15a5a0d685"
      },
      "execution_count": 30,
      "outputs": [
        {
          "output_type": "stream",
          "name": "stdout",
          "text": [
            " White Beard \\ is the best\n"
          ]
        }
      ]
    },
    {
      "cell_type": "markdown",
      "source": [
        "# String Manipulation Operations"
      ],
      "metadata": {
        "id": "57m4QK6WEFIp"
      }
    },
    {
      "cell_type": "code",
      "source": [
        "# Convert all the characters in string to upper case\n",
        "\n",
        "a = \"Thriller\"\n",
        "print(\"before upper:\", a)\n",
        "b = a.upper()\n",
        "print(\"After upper:\", b)"
      ],
      "metadata": {
        "colab": {
          "base_uri": "https://localhost:8080/"
        },
        "id": "kX373d4NEZ-r",
        "outputId": "274d22ad-f93d-4945-e952-c90cdb34681b"
      },
      "execution_count": 32,
      "outputs": [
        {
          "output_type": "stream",
          "name": "stdout",
          "text": [
            "before upper: Thriller\n",
            "After upper: THRILLER\n"
          ]
        }
      ]
    },
    {
      "cell_type": "code",
      "source": [
        "# Replace the old substring with the new target substring is the segment has been found in the string\n",
        "\n",
        "a = \"White Beard is the best\"\n",
        "b = a.replace('White', 'Black')\n",
        "b"
      ],
      "metadata": {
        "colab": {
          "base_uri": "https://localhost:8080/",
          "height": 36
        },
        "id": "dLWlwiObEpk0",
        "outputId": "12731067-56d4-4f24-8a64-8c307a683a14"
      },
      "execution_count": 33,
      "outputs": [
        {
          "output_type": "execute_result",
          "data": {
            "text/plain": [
              "'Black Beard is the best'"
            ],
            "application/vnd.google.colaboratory.intrinsic+json": {
              "type": "string"
            }
          },
          "metadata": {},
          "execution_count": 33
        }
      ]
    },
    {
      "cell_type": "code",
      "source": [
        "# Find the substring in the string.\n",
        "name = \"Raju Farhan\"\n",
        "name.find('Far')\n",
        "\n",
        "#If the  sub-string is not in the string then the output is a negative one. For example, the string 'Random' is not a substring:\n",
        "name.find('Random')"
      ],
      "metadata": {
        "colab": {
          "base_uri": "https://localhost:8080/"
        },
        "id": "peSrQq7KFKuC",
        "outputId": "c34146f8-6822-4c8e-d32a-1bf4f365fa01"
      },
      "execution_count": 40,
      "outputs": [
        {
          "output_type": "execute_result",
          "data": {
            "text/plain": [
              "-1"
            ]
          },
          "metadata": {},
          "execution_count": 40
        }
      ]
    },
    {
      "cell_type": "code",
      "source": [],
      "metadata": {
        "id": "UOsx7IKtFiiI"
      },
      "execution_count": null,
      "outputs": []
    }
  ]
}