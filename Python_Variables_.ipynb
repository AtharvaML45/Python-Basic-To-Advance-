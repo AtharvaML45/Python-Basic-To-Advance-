{
  "nbformat": 4,
  "nbformat_minor": 0,
  "metadata": {
    "colab": {
      "provenance": []
    },
    "kernelspec": {
      "name": "python3",
      "display_name": "Python 3"
    },
    "language_info": {
      "name": "python"
    }
  },
  "cells": [
    {
      "cell_type": "markdown",
      "source": [
        "# Python Variables"
      ],
      "metadata": {
        "id": "mb0tQNoc1QyU"
      }
    },
    {
      "cell_type": "code",
      "source": [
        "x = 6         # interger\n",
        "y = 9.5       # float\n",
        "z = \"Nick\"    # string\n",
        "\n",
        "print(x)\n",
        "print(y)\n",
        "print(z)"
      ],
      "metadata": {
        "colab": {
          "base_uri": "https://localhost:8080/"
        },
        "id": "TovtGmL-1R2a",
        "outputId": "3b1e95dd-40a5-4c6d-d5f6-d54da8ad3be9"
      },
      "execution_count": 1,
      "outputs": [
        {
          "output_type": "stream",
          "name": "stdout",
          "text": [
            "6\n",
            "9.5\n",
            "Nick\n"
          ]
        }
      ]
    },
    {
      "cell_type": "code",
      "source": [
        "## Type Casting\n",
        "#Conversion of Variable Types\n",
        "\n",
        "x = float(5)\n",
        "y = str(80)\n",
        "z = str(5)\n",
        "\n",
        "print(x)\n",
        "print(y)\n",
        "print(z)\n",
        "\n",
        "print(type(x))\n",
        "print(type(y))\n",
        "print(type(z))\n"
      ],
      "metadata": {
        "colab": {
          "base_uri": "https://localhost:8080/"
        },
        "id": "a-dZJ8go10bY",
        "outputId": "1cf24feb-620f-49d2-dcaf-577140893c93"
      },
      "execution_count": 5,
      "outputs": [
        {
          "output_type": "stream",
          "name": "stdout",
          "text": [
            "5.0\n",
            "80\n",
            "5\n",
            "<class 'float'>\n",
            "<class 'str'>\n",
            "<class 'str'>\n"
          ]
        }
      ]
    },
    {
      "cell_type": "code",
      "source": [
        "## Assigning Multiple Values to Variables\n",
        "\n",
        "# Assigning multiple values to multiple variables respectively\n",
        "\n",
        "a, b, c = \"amit\",\"ramesh\",\"naresh\"\n",
        "\n",
        "print(a,b,c)\n",
        "print(a)\n",
        "print(b)\n",
        "print(c)\n"
      ],
      "metadata": {
        "colab": {
          "base_uri": "https://localhost:8080/"
        },
        "id": "CLb1TBJW2cYK",
        "outputId": "b7a294d2-d859-4532-cf88-b7bd22decbd3"
      },
      "execution_count": 10,
      "outputs": [
        {
          "output_type": "stream",
          "name": "stdout",
          "text": [
            "amit ramesh naresh\n",
            "amit\n",
            "ramesh\n",
            "naresh\n"
          ]
        }
      ]
    },
    {
      "cell_type": "code",
      "source": [
        "## One value to Multiple Variables\n",
        "\n",
        "a= b= c = \"Luffy\"\n",
        "print(a,b,c)"
      ],
      "metadata": {
        "colab": {
          "base_uri": "https://localhost:8080/"
        },
        "id": "us8UQNwa3iui",
        "outputId": "b80172b1-0d2d-4586-af9c-8f7d2142ef47"
      },
      "execution_count": 13,
      "outputs": [
        {
          "output_type": "stream",
          "name": "stdout",
          "text": [
            "Luffy Luffy Luffy\n"
          ]
        }
      ]
    },
    {
      "cell_type": "code",
      "source": [
        "# We can assign values with the help of list\n",
        "\n",
        "MC = [\"Luffy\", \"Ichigo\", \"Goku\"]\n",
        "a,b,c = MC\n",
        "print(a,b,c)\n",
        "print(a)\n",
        "print(b)\n",
        "print(c)"
      ],
      "metadata": {
        "colab": {
          "base_uri": "https://localhost:8080/"
        },
        "id": "j6lwEKh63t_c",
        "outputId": "bdad70b2-0507-4a2d-f71f-fe61383dffd2"
      },
      "execution_count": 15,
      "outputs": [
        {
          "output_type": "stream",
          "name": "stdout",
          "text": [
            "Luffy Ichigo Goku\n",
            "Luffy\n",
            "Ichigo\n",
            "Goku\n"
          ]
        }
      ]
    },
    {
      "cell_type": "code",
      "source": [
        "# Showing Python Outputs\n",
        "a =\"Luffy \"\n",
        "b = \"Ichigo \"\n",
        "c =\"Goku \"\n",
        "print(a,b,c)\n",
        "print(a+b+c)\n",
        "print(a)\n",
        "print(b)\n",
        "print(c)\n",
        "# All oF these gives us same output\n",
        "#see the spaces at end of luffy ichcigo  if we don't use then we will get output we will get output as luffyichigogoku\n",
        "\n",
        "\n",
        "\n"
      ],
      "metadata": {
        "colab": {
          "base_uri": "https://localhost:8080/"
        },
        "id": "kh4k-jqx43bJ",
        "outputId": "4109663f-76bd-44a4-8fe1-ca2028fcbc26"
      },
      "execution_count": 23,
      "outputs": [
        {
          "output_type": "stream",
          "name": "stdout",
          "text": [
            "Luffy  Ichigo  Goku \n",
            "Luffy Ichigo Goku \n",
            "Luffy \n",
            "Ichigo \n",
            "Goku \n"
          ]
        }
      ]
    },
    {
      "cell_type": "code",
      "source": [],
      "metadata": {
        "id": "v18P2NiZ5y0R"
      },
      "execution_count": null,
      "outputs": []
    }
  ]
}